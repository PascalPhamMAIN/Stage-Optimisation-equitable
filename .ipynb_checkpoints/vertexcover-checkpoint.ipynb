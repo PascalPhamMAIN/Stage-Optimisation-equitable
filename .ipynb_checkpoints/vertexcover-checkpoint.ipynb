{
 "cells": [
  {
   "cell_type": "code",
   "execution_count": 14,
   "id": "f4b74804-9550-40b7-81c2-2ccbc9510fb6",
   "metadata": {},
   "outputs": [],
   "source": [
    "from gurobipy import *\n",
    "import numpy as np"
   ]
  },
  {
   "cell_type": "code",
   "execution_count": 15,
   "id": "1e0880bd-9859-4439-8260-74421ca9645c",
   "metadata": {},
   "outputs": [],
   "source": [
    "# Application du problème Vertex-Cover à des graphes particuliers\n",
    "\n",
    "def vertex_cover_lp_rounding(vertices,edges,w):\n",
    "    model = Model(\"vertex_cover_lp\")\n",
    "\n",
    "    # LP\n",
    "    n = len(vertices)\n",
    "    # dans lect1104 c'est continue\n",
    "    x = model.addVars(n, vtype = GRB.CONTINUOUS, name = \"x\", lb = 0, ub = 1)\n",
    "\n",
    "    #model.update()\n",
    "\n",
    "    for edge in edges:\n",
    "        u = edge[0]\n",
    "        v = edge[1]\n",
    "        model.addConstr(x[u] + x[v] >= 1)\n",
    "\n",
    "    obj_fn = sum(w[v]*x[v] for v in vertices)\n",
    "    model.setObjective(obj_fn, GRB.MINIMIZE)\n",
    "\n",
    "    # Résolution\n",
    "    model.optimize()\n",
    "\n",
    "    print(\"Poids :\", w)\n",
    "    print('Objective Function Value: %f' % model.objVal)\n",
    "    # Get values of the decision variables\n",
    "    for v in model.getVars():\n",
    "        print('%s: %g' % (v.varName, v.x))\n",
    "\n",
    "    # rounding\n",
    "    cover = []\n",
    "    for v in vertices:\n",
    "        if x[v].X >= 0.5:\n",
    "            cover.append(v)\n",
    "\n",
    "    return cover"
   ]
  },
  {
   "cell_type": "markdown",
   "id": "f7551e98-7a22-4e47-89a8-deec92b99cd0",
   "metadata": {},
   "source": [
    "## Graphe en étoiles"
   ]
  },
  {
   "cell_type": "code",
   "execution_count": 17,
   "id": "02977296-fdf5-4852-acfe-45400a4b34b2",
   "metadata": {},
   "outputs": [
    {
     "name": "stdout",
     "output_type": "stream",
     "text": [
      "Gurobi Optimizer version 12.0.1 build v12.0.1rc0 (win64 - Windows 11.0 (26100.2))\n",
      "\n",
      "CPU model: 13th Gen Intel(R) Core(TM) i7-1360P, instruction set [SSE2|AVX|AVX2]\n",
      "Thread count: 12 physical cores, 16 logical processors, using up to 16 threads\n",
      "\n",
      "Optimize a model with 5 rows, 6 columns and 10 nonzeros\n",
      "Model fingerprint: 0x68ebfc6f\n",
      "Coefficient statistics:\n",
      "  Matrix range     [1e+00, 1e+00]\n",
      "  Objective range  [1e+00, 1e+00]\n",
      "  Bounds range     [1e+00, 1e+00]\n",
      "  RHS range        [1e+00, 1e+00]\n",
      "Presolve time: 0.00s\n",
      "Presolved: 5 rows, 6 columns, 10 nonzeros\n",
      "\n",
      "Iteration    Objective       Primal Inf.    Dual Inf.      Time\n",
      "       0    0.0000000e+00   5.000000e+00   0.000000e+00      0s\n",
      "       2    1.0000000e+00   0.000000e+00   0.000000e+00      0s\n",
      "\n",
      "Solved in 2 iterations and 0.01 seconds (0.00 work units)\n",
      "Optimal objective  1.000000000e+00\n",
      "Poids : [1, 1, 1, 1, 1, 1]\n",
      "Objective Function Value: 1.000000\n",
      "x[0]: 1\n",
      "x[1]: 0\n",
      "x[2]: 0\n",
      "x[3]: 0\n",
      "x[4]: 0\n",
      "x[5]: 0\n",
      "Couverture : [0]\n"
     ]
    }
   ],
   "source": [
    "n = 6\n",
    "sommets = range(n)\n",
    "aretes = [(0, 1), (0, 2), (0, 3), (0, 4), (0,5)] # Graphe en étoiles\n",
    "#poids = np.random.randint(1,5,n)\n",
    "poids = [1 for i in range(n)]\n",
    "couverture = vertex_cover_lp_rounding(sommets,aretes,poids)\n",
    "print(\"Couverture :\", couverture)"
   ]
  },
  {
   "cell_type": "code",
   "execution_count": 18,
   "id": "aa642fd8-8376-4c13-8fd7-12b8bef70c37",
   "metadata": {},
   "outputs": [
    {
     "name": "stdout",
     "output_type": "stream",
     "text": [
      "Gurobi Optimizer version 12.0.1 build v12.0.1rc0 (win64 - Windows 11.0 (26100.2))\n",
      "\n",
      "CPU model: 13th Gen Intel(R) Core(TM) i7-1360P, instruction set [SSE2|AVX|AVX2]\n",
      "Thread count: 12 physical cores, 16 logical processors, using up to 16 threads\n",
      "\n",
      "Optimize a model with 5 rows, 6 columns and 10 nonzeros\n",
      "Model fingerprint: 0x9a6d4c4f\n",
      "Coefficient statistics:\n",
      "  Matrix range     [1e+00, 1e+00]\n",
      "  Objective range  [1e+00, 1e+01]\n",
      "  Bounds range     [1e+00, 1e+00]\n",
      "  RHS range        [1e+00, 1e+00]\n",
      "Presolve removed 5 rows and 6 columns\n",
      "Presolve time: 0.00s\n",
      "Presolve: All rows and columns removed\n",
      "Iteration    Objective       Primal Inf.    Dual Inf.      Time\n",
      "       0    5.0000000e+00   0.000000e+00   0.000000e+00      0s\n",
      "\n",
      "Solved in 0 iterations and 0.01 seconds (0.00 work units)\n",
      "Optimal objective  5.000000000e+00\n",
      "Poids : [10, 1, 1, 1, 1, 1]\n",
      "Objective Function Value: 5.000000\n",
      "x[0]: 0\n",
      "x[1]: 1\n",
      "x[2]: 1\n",
      "x[3]: 1\n",
      "x[4]: 1\n",
      "x[5]: 1\n",
      "Couverture : [1, 2, 3, 4, 5]\n"
     ]
    }
   ],
   "source": [
    "n = 6\n",
    "sommets = range(n)\n",
    "aretes = [(0, 1), (0, 2), (0, 3), (0, 4), (0,5)] # Graphe en étoiles\n",
    "#poids = np.random.randint(1,5,n)\n",
    "poids = [10,1,1,1,1,1]\n",
    "couverture = vertex_cover_lp_rounding(sommets,aretes,poids)\n",
    "print(\"Couverture :\", couverture)"
   ]
  },
  {
   "cell_type": "code",
   "execution_count": 19,
   "id": "e6dbfd8f-f8d8-4320-a968-5cb7d3cc4559",
   "metadata": {},
   "outputs": [
    {
     "name": "stdout",
     "output_type": "stream",
     "text": [
      "Gurobi Optimizer version 12.0.1 build v12.0.1rc0 (win64 - Windows 11.0 (26100.2))\n",
      "\n",
      "CPU model: 13th Gen Intel(R) Core(TM) i7-1360P, instruction set [SSE2|AVX|AVX2]\n",
      "Thread count: 12 physical cores, 16 logical processors, using up to 16 threads\n",
      "\n",
      "Optimize a model with 5 rows, 5 columns and 10 nonzeros\n",
      "Model fingerprint: 0xd9853bb9\n",
      "Coefficient statistics:\n",
      "  Matrix range     [1e+00, 1e+00]\n",
      "  Objective range  [1e+00, 1e+00]\n",
      "  Bounds range     [1e+00, 1e+00]\n",
      "  RHS range        [1e+00, 1e+00]\n",
      "Presolve time: 0.01s\n",
      "Presolved: 5 rows, 5 columns, 10 nonzeros\n",
      "\n",
      "Iteration    Objective       Primal Inf.    Dual Inf.      Time\n",
      "       0    0.0000000e+00   5.000000e+00   0.000000e+00      0s\n",
      "       5    2.5000000e+00   0.000000e+00   0.000000e+00      0s\n",
      "\n",
      "Solved in 5 iterations and 0.01 seconds (0.00 work units)\n",
      "Optimal objective  2.500000000e+00\n",
      "Poids : [1, 1, 1, 1, 1]\n",
      "Objective Function Value: 2.500000\n",
      "x[0]: 0.5\n",
      "x[1]: 0.5\n",
      "x[2]: 0.5\n",
      "x[3]: 0.5\n",
      "x[4]: 0.5\n",
      "Couverture : [0, 1, 2, 3, 4]\n"
     ]
    }
   ],
   "source": [
    "n = 5\n",
    "sommets = range(n)\n",
    "aretes = [(0, 1), (1, 2), (3, 4), (0, 2), (1, 3)]\n",
    "poids = [1 for i in range(n)]\n",
    "#poids = np.random.randint(1,5,n)\n",
    "couverture = vertex_cover_lp_rounding(sommets,aretes,poids)\n",
    "print(\"Couverture :\", couverture)"
   ]
  },
  {
   "cell_type": "markdown",
   "id": "737689f2-f171-4fd0-acab-cd6e06e5eaf5",
   "metadata": {},
   "source": [
    "## Graphe triangle"
   ]
  },
  {
   "cell_type": "code",
   "execution_count": 20,
   "id": "c2dea7ee-528a-47e7-8b50-01b215ef23a7",
   "metadata": {},
   "outputs": [
    {
     "name": "stdout",
     "output_type": "stream",
     "text": [
      "Gurobi Optimizer version 12.0.1 build v12.0.1rc0 (win64 - Windows 11.0 (26100.2))\n",
      "\n",
      "CPU model: 13th Gen Intel(R) Core(TM) i7-1360P, instruction set [SSE2|AVX|AVX2]\n",
      "Thread count: 12 physical cores, 16 logical processors, using up to 16 threads\n",
      "\n",
      "Optimize a model with 3 rows, 3 columns and 6 nonzeros\n",
      "Model fingerprint: 0xa8aff026\n",
      "Coefficient statistics:\n",
      "  Matrix range     [1e+00, 1e+00]\n",
      "  Objective range  [1e+00, 1e+00]\n",
      "  Bounds range     [1e+00, 1e+00]\n",
      "  RHS range        [1e+00, 1e+00]\n",
      "Presolve time: 0.01s\n",
      "Presolved: 3 rows, 3 columns, 6 nonzeros\n",
      "\n",
      "Iteration    Objective       Primal Inf.    Dual Inf.      Time\n",
      "       0    0.0000000e+00   3.000000e+00   0.000000e+00      0s\n",
      "       3    1.5000000e+00   0.000000e+00   0.000000e+00      0s\n",
      "\n",
      "Solved in 3 iterations and 0.01 seconds (0.00 work units)\n",
      "Optimal objective  1.500000000e+00\n",
      "Poids : [1, 1, 1]\n",
      "Objective Function Value: 1.500000\n",
      "x[0]: 0.5\n",
      "x[1]: 0.5\n",
      "x[2]: 0.5\n",
      "Couverture : [0, 1, 2]\n"
     ]
    }
   ],
   "source": [
    "n = 3\n",
    "sommets = range(n)\n",
    "aretes = [(0, 1), (1, 2), (0,2)]\n",
    "poids = [1 for i in range(n)]\n",
    "#poids = np.random.randint(1,5,n)\n",
    "couverture = vertex_cover_lp_rounding(sommets,aretes,poids)\n",
    "print(\"Couverture :\", couverture)"
   ]
  },
  {
   "cell_type": "code",
   "execution_count": 21,
   "id": "15ac6462-6199-406e-8b2c-d8bad8a71a42",
   "metadata": {},
   "outputs": [
    {
     "name": "stdout",
     "output_type": "stream",
     "text": [
      "Gurobi Optimizer version 12.0.1 build v12.0.1rc0 (win64 - Windows 11.0 (26100.2))\n",
      "\n",
      "CPU model: 13th Gen Intel(R) Core(TM) i7-1360P, instruction set [SSE2|AVX|AVX2]\n",
      "Thread count: 12 physical cores, 16 logical processors, using up to 16 threads\n",
      "\n",
      "Optimize a model with 4 rows, 5 columns and 8 nonzeros\n",
      "Model fingerprint: 0x68179227\n",
      "Coefficient statistics:\n",
      "  Matrix range     [1e+00, 1e+00]\n",
      "  Objective range  [1e+00, 1e+00]\n",
      "  Bounds range     [1e+00, 1e+00]\n",
      "  RHS range        [1e+00, 1e+00]\n",
      "Presolve time: 0.01s\n",
      "Presolved: 4 rows, 5 columns, 8 nonzeros\n",
      "\n",
      "Iteration    Objective       Primal Inf.    Dual Inf.      Time\n",
      "       0    0.0000000e+00   4.000000e+00   0.000000e+00      0s\n",
      "       3    2.0000000e+00   0.000000e+00   0.000000e+00      0s\n",
      "\n",
      "Solved in 3 iterations and 0.02 seconds (0.00 work units)\n",
      "Optimal objective  2.000000000e+00\n",
      "Poids : [1, 1, 1, 1, 1]\n",
      "Objective Function Value: 2.000000\n",
      "x[0]: 0\n",
      "x[1]: 1\n",
      "x[2]: 0\n",
      "x[3]: 1\n",
      "x[4]: 0\n",
      "Couverture : [1, 3]\n"
     ]
    }
   ],
   "source": [
    "n = 5\n",
    "sommets = range(n)\n",
    "aretes = [(0, 1), (1, 2), (2, 3), (1, 4)]\n",
    "poids = [1 for i in range(n)]\n",
    "#poids = np.random.randint(1,5,n)\n",
    "couverture = vertex_cover_lp_rounding(sommets,aretes,poids)\n",
    "print(\"Couverture :\", couverture)"
   ]
  },
  {
   "cell_type": "markdown",
   "id": "6ed55a08-df14-472f-8325-27ead7f4fb6e",
   "metadata": {},
   "source": [
    "## Graphe carré"
   ]
  },
  {
   "cell_type": "code",
   "execution_count": 24,
   "id": "db5b1d92-7aa2-4cdc-b274-044a8f46b42b",
   "metadata": {},
   "outputs": [
    {
     "name": "stdout",
     "output_type": "stream",
     "text": [
      "Gurobi Optimizer version 12.0.1 build v12.0.1rc0 (win64 - Windows 11.0 (26100.2))\n",
      "\n",
      "CPU model: 13th Gen Intel(R) Core(TM) i7-1360P, instruction set [SSE2|AVX|AVX2]\n",
      "Thread count: 12 physical cores, 16 logical processors, using up to 16 threads\n",
      "\n",
      "Optimize a model with 4 rows, 4 columns and 8 nonzeros\n",
      "Model fingerprint: 0x02060ef6\n",
      "Coefficient statistics:\n",
      "  Matrix range     [1e+00, 1e+00]\n",
      "  Objective range  [1e+00, 1e+00]\n",
      "  Bounds range     [1e+00, 1e+00]\n",
      "  RHS range        [1e+00, 1e+00]\n",
      "Presolve time: 0.01s\n",
      "Presolved: 4 rows, 4 columns, 8 nonzeros\n",
      "\n",
      "Iteration    Objective       Primal Inf.    Dual Inf.      Time\n",
      "       0    0.0000000e+00   4.000000e+00   0.000000e+00      0s\n",
      "       3    2.0000000e+00   0.000000e+00   0.000000e+00      0s\n",
      "\n",
      "Solved in 3 iterations and 0.01 seconds (0.00 work units)\n",
      "Optimal objective  2.000000000e+00\n",
      "Poids : [1, 1, 1, 1]\n",
      "Objective Function Value: 2.000000\n",
      "x[0]: 1\n",
      "x[1]: 0\n",
      "x[2]: 1\n",
      "x[3]: 0\n",
      "Couverture : [0, 2]\n"
     ]
    }
   ],
   "source": [
    "n = 4\n",
    "sommets = range(n)\n",
    "aretes = [(0, 1), (1, 2), (2, 3), (3, 0)]\n",
    "poids = [1 for i in range(n)]\n",
    "#poids = np.random.randint(1,5,n)\n",
    "couverture = vertex_cover_lp_rounding(sommets,aretes,poids)\n",
    "print(\"Couverture :\", couverture)"
   ]
  },
  {
   "cell_type": "code",
   "execution_count": null,
   "id": "65b18cf4-9928-4fec-8b38-f6485c86a7fc",
   "metadata": {},
   "outputs": [],
   "source": []
  }
 ],
 "metadata": {
  "kernelspec": {
   "display_name": "Python 3 (ipykernel)",
   "language": "python",
   "name": "python3"
  },
  "language_info": {
   "codemirror_mode": {
    "name": "ipython",
    "version": 3
   },
   "file_extension": ".py",
   "mimetype": "text/x-python",
   "name": "python",
   "nbconvert_exporter": "python",
   "pygments_lexer": "ipython3",
   "version": "3.13.2"
  }
 },
 "nbformat": 4,
 "nbformat_minor": 5
}
