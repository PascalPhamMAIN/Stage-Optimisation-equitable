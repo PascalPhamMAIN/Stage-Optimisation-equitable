{
 "cells": [
  {
   "cell_type": "markdown",
   "id": "0480888d-cefc-4a36-aaf7-ca1501618c26",
   "metadata": {},
   "source": [
    "# Recherche d'une solution optimale équitable"
   ]
  },
  {
   "cell_type": "code",
   "execution_count": 1,
   "id": "f20f321d-b8ca-4319-95ba-83de2c605dcd",
   "metadata": {},
   "outputs": [],
   "source": [
    "from gurobipy import *\n",
    "import numpy as np"
   ]
  },
  {
   "cell_type": "markdown",
   "id": "137e04ba-3ca4-40e5-a2aa-265124e5ba37",
   "metadata": {},
   "source": [
    "## Expression de $L_{k}(x)$\n",
    "\n",
    "\\begin{align}\n",
    "    \\text{Max} \\quad & \\sum_{i = 1}^{n} \\ \\alpha_{ik} \\ x_{i} \\\\\n",
    "    \\text{s.t.} \\quad & \n",
    "        \\left\\{\n",
    "            \\begin{array}{ll}\n",
    "            \\sum_{i = 1}^{n} \\alpha_{ik} = k \\\\\n",
    "            0 \\leq \\alpha_{ik} \\leq 1 & \\forall i \\in \\{1, \\dots, n\\}\n",
    "            \\end{array}\n",
    "        \\right.\n",
    "\\end{align}"
   ]
  },
  {
   "cell_type": "code",
   "execution_count": 2,
   "id": "87ba1e96-7b69-4422-a404-8b356a82fa0f",
   "metadata": {},
   "outputs": [
    {
     "name": "stdout",
     "output_type": "stream",
     "text": [
      "Set parameter Username\n",
      "Set parameter LicenseID to value 2652794\n",
      "Academic license - for non-commercial use only - expires 2026-04-15\n"
     ]
    }
   ],
   "source": [
    "opt_mod = Model(name = \"linear program\")\n",
    "n = 4\n",
    "k = 2\n",
    "x = np.random.randint(1, 10, n)\n",
    "alpha_k = opt_mod.addVars(n, vtype = GRB.CONTINUOUS, name = \"alpha_k\", lb = 0, ub = 1)\n",
    "opt_mod.addConstr(sum(alpha_k[i] for i in range(n)) == k, name = 'c1')\n",
    "obj_fn = sum(alpha_k[i]*x[i] for i in range(n))\n",
    "opt_mod.setObjective(obj_fn, GRB.MAXIMIZE)"
   ]
  },
  {
   "cell_type": "code",
   "execution_count": 3,
   "id": "c46208a8-1a2e-4cab-b0fd-99baaae6b7f6",
   "metadata": {},
   "outputs": [
    {
     "name": "stdout",
     "output_type": "stream",
     "text": [
      "Gurobi Optimizer version 12.0.1 build v12.0.1rc0 (win64 - Windows 11.0 (26100.2))\n",
      "\n",
      "CPU model: 13th Gen Intel(R) Core(TM) i7-1360P, instruction set [SSE2|AVX|AVX2]\n",
      "Thread count: 12 physical cores, 16 logical processors, using up to 16 threads\n",
      "\n",
      "Optimize a model with 1 rows, 4 columns and 4 nonzeros\n",
      "Model fingerprint: 0xb2686b08\n",
      "Coefficient statistics:\n",
      "  Matrix range     [1e+00, 1e+00]\n",
      "  Objective range  [1e+00, 9e+00]\n",
      "  Bounds range     [1e+00, 1e+00]\n",
      "  RHS range        [2e+00, 2e+00]\n",
      "Presolve removed 1 rows and 4 columns\n",
      "Presolve time: 0.01s\n",
      "Presolve: All rows and columns removed\n",
      "Iteration    Objective       Primal Inf.    Dual Inf.      Time\n",
      "       0    1.7000000e+01   0.000000e+00   0.000000e+00      0s\n",
      "\n",
      "Solved in 0 iterations and 0.02 seconds (0.00 work units)\n",
      "Optimal objective  1.700000000e+01\n"
     ]
    }
   ],
   "source": [
    "opt_mod.optimize()\n",
    "opt_mod.write(\"test_mod1.lp\")"
   ]
  },
  {
   "cell_type": "code",
   "execution_count": 4,
   "id": "9e63e281-a191-493b-a8c1-1361e1088cdc",
   "metadata": {},
   "outputs": [
    {
     "name": "stdout",
     "output_type": "stream",
     "text": [
      "x =  [1 8 9 1]\n",
      "Objective Function Value: 17.000000\n",
      "alpha_k[0]: 0\n",
      "alpha_k[1]: 1\n",
      "alpha_k[2]: 1\n",
      "alpha_k[3]: 0\n"
     ]
    }
   ],
   "source": [
    "print(\"x = \", x)\n",
    "print('Objective Function Value: %f' % opt_mod.objVal)\n",
    "# Get values of the decision variables\n",
    "for v in opt_mod.getVars():\n",
    "    print('%s: %g' % (v.varName, v.x))"
   ]
  },
  {
   "cell_type": "markdown",
   "id": "62b7a316-4741-485d-8ab7-441fc25c9fce",
   "metadata": {},
   "source": [
    "## Problème dual pour déterminer $L_{k}(x)$\n",
    "\n",
    "\\begin{align}\n",
    "    \\text{Min} \\quad & k \\ r_{k} + \\sum_{i = 1}^{n} \\ b_{ik} \\\\\n",
    "    \\text{s.t.} \\quad & \n",
    "        \\left\\{\n",
    "            \\begin{array}{lll}\n",
    "            r_{k} + b_{ik} & \\geq x_{i} & i = 1, \\dots, n \\\\\n",
    "            b_{ik} & \\geq 0 & i = 1, \\dots, n\n",
    "            \\end{array}\n",
    "        \\right.\n",
    "\\end{align}"
   ]
  },
  {
   "cell_type": "code",
   "execution_count": 5,
   "id": "05d69291-e8e4-4d03-855e-4536c41006d9",
   "metadata": {},
   "outputs": [],
   "source": [
    "opt_mod1 = Model(name = \"dual L_k\")\n",
    "n = 4\n",
    "k = 2\n",
    "#x = np.random.randint(1, 10, n)\n",
    "b_k = opt_mod1.addVars(n, vtype = GRB.CONTINUOUS, name = \"b_k\", lb = 0)\n",
    "r_k = opt_mod1.addVar(name = 'r_k', vtype = GRB.CONTINUOUS)\n",
    "opt_mod1.addConstrs((r_k + b_k[i] >= x[i] for i in range(n)), name = 'contraintes')\n",
    "obj_fn1 = k*r_k + sum(b_k[i] for i in range(n))\n",
    "opt_mod1.setObjective(obj_fn1, GRB.MINIMIZE)"
   ]
  },
  {
   "cell_type": "code",
   "execution_count": 6,
   "id": "f5ad6a20-0393-4453-a7b9-22428c39440a",
   "metadata": {},
   "outputs": [
    {
     "name": "stdout",
     "output_type": "stream",
     "text": [
      "Gurobi Optimizer version 12.0.1 build v12.0.1rc0 (win64 - Windows 11.0 (26100.2))\n",
      "\n",
      "CPU model: 13th Gen Intel(R) Core(TM) i7-1360P, instruction set [SSE2|AVX|AVX2]\n",
      "Thread count: 12 physical cores, 16 logical processors, using up to 16 threads\n",
      "\n",
      "Optimize a model with 4 rows, 5 columns and 8 nonzeros\n",
      "Model fingerprint: 0xfcaefda5\n",
      "Coefficient statistics:\n",
      "  Matrix range     [1e+00, 1e+00]\n",
      "  Objective range  [1e+00, 2e+00]\n",
      "  Bounds range     [0e+00, 0e+00]\n",
      "  RHS range        [1e+00, 9e+00]\n",
      "Presolve time: 0.01s\n",
      "Presolved: 4 rows, 5 columns, 8 nonzeros\n",
      "\n",
      "Iteration    Objective       Primal Inf.    Dual Inf.      Time\n",
      "       0    0.0000000e+00   1.900000e+01   0.000000e+00      0s\n",
      "       3    1.7000000e+01   0.000000e+00   0.000000e+00      0s\n",
      "\n",
      "Solved in 3 iterations and 0.02 seconds (0.00 work units)\n",
      "Optimal objective  1.700000000e+01\n"
     ]
    }
   ],
   "source": [
    "opt_mod1.optimize()\n",
    "opt_mod1.write(\"test_mod2.lp\")"
   ]
  },
  {
   "cell_type": "code",
   "execution_count": 7,
   "id": "5ddc7702-22c0-4b59-88f0-c96ed5eea0c2",
   "metadata": {},
   "outputs": [
    {
     "name": "stdout",
     "output_type": "stream",
     "text": [
      "x =  [1 8 9 1]\n",
      "k =  2\n",
      "Objective Function Value: 17.000000\n",
      "b_k[0]: 0\n",
      "b_k[1]: 7\n",
      "b_k[2]: 8\n",
      "b_k[3]: 0\n",
      "r_k: 1\n"
     ]
    }
   ],
   "source": [
    "print(\"x = \", x)\n",
    "print(\"k = \", k)\n",
    "print('Objective Function Value: %f' % opt_mod1.objVal)\n",
    "# Get values of the decision variables\n",
    "for v in opt_mod1.getVars():\n",
    "    print('%s: %g' % (v.varName, v.x))"
   ]
  },
  {
   "cell_type": "markdown",
   "id": "784269b0-8131-4456-a541-906075d7893d",
   "metadata": {},
   "source": [
    "## Minimiser la fonction OWA"
   ]
  },
  {
   "cell_type": "code",
   "execution_count": 8,
   "id": "47126f1c-0d1e-435a-8e32-bd83649b8169",
   "metadata": {},
   "outputs": [
    {
     "name": "stdout",
     "output_type": "stream",
     "text": [
      "Gurobi Optimizer version 12.0.1 build v12.0.1rc0 (win64 - Windows 11.0 (26100.2))\n",
      "\n",
      "CPU model: 13th Gen Intel(R) Core(TM) i7-1360P, instruction set [SSE2|AVX|AVX2]\n",
      "Thread count: 12 physical cores, 16 logical processors, using up to 16 threads\n",
      "\n",
      "Optimize a model with 1020 rows, 1830 columns and 32400 nonzeros\n",
      "Model fingerprint: 0xda8b1542\n",
      "Variable types: 930 continuous, 900 integer (900 binary)\n",
      "Coefficient statistics:\n",
      "  Matrix range     [6e-04, 5e+00]\n",
      "  Objective range  [1e+00, 3e+01]\n",
      "  Bounds range     [1e+00, 1e+00]\n",
      "  RHS range        [1e+00, 1e+00]\n",
      "Found heuristic solution: objective 4848.7335634\n",
      "Presolve removed 90 rows and 31 columns\n",
      "Presolve time: 0.08s\n",
      "Presolved: 930 rows, 1799 columns, 29640 nonzeros\n",
      "Variable types: 899 continuous, 900 integer (900 binary)\n",
      "\n",
      "Root relaxation: objective 1.142301e+02, 1201 iterations, 0.07 seconds (0.03 work units)\n",
      "\n",
      "    Nodes    |    Current Node    |     Objective Bounds      |     Work\n",
      " Expl Unexpl |  Obj  Depth IntInf | Incumbent    BestBd   Gap | It/Node Time\n",
      "\n",
      "     0     0  114.23012    0   39 4848.73356  114.23012  97.6%     -    0s\n",
      "H    0     0                    2192.1361043  114.23012  94.8%     -    0s\n",
      "H    0     0                     202.7781477  114.23012  43.7%     -    0s\n",
      "H    0     0                     182.2507575  114.23012  37.3%     -    0s\n",
      "H    0     0                     122.9039223  114.23012  7.06%     -    0s\n",
      "     0     0  117.12883    0   47  122.90392  117.12883  4.70%     -    0s\n",
      "     0     0  117.12883    0   39  122.90392  117.12883  4.70%     -    0s\n",
      "     0     0  117.14008    0   46  122.90392  117.14008  4.69%     -    0s\n",
      "H    0     0                     122.7708255  117.18814  4.55%     -    0s\n",
      "     0     0  119.25799    0   45  122.77083  119.25799  2.86%     -    0s\n",
      "     0     0  119.28631    0   43  122.77083  119.28631  2.84%     -    0s\n",
      "     0     0  119.30276    0   47  122.77083  119.30276  2.82%     -    0s\n",
      "     0     0  119.30329    0   47  122.77083  119.30329  2.82%     -    0s\n",
      "H    0     0                     122.6957568  119.30329  2.76%     -    0s\n",
      "     0     0  122.61744    0   48  122.69576  122.61744  0.06%     -    0s\n",
      "     0     0  122.69576    0   47  122.69576  122.69576  0.00%     -    0s\n",
      "\n",
      "Cutting planes:\n",
      "  MIR: 206\n",
      "  RLT: 2\n",
      "  Relax-and-lift: 18\n",
      "\n",
      "Explored 1 nodes (3463 simplex iterations) in 0.90 seconds (0.30 work units)\n",
      "Thread count was 16 (of 16 available processors)\n",
      "\n",
      "Solution count 8: 122.696 122.771 122.904 ... 4848.73\n",
      "\n",
      "Optimal solution found (tolerance 1.00e-04)\n",
      "Best objective 1.226957567983e+02, best bound 1.226957567983e+02, gap 0.0000%\n"
     ]
    }
   ],
   "source": [
    "def sol_equitable_opti(c,w,n,m,l_prime,u_prime,l,u):\n",
    "    opt_mod2 = Model(name = \"min W\")\n",
    "    \n",
    "    b = opt_mod2.addVars(n, n, vtype = GRB.CONTINUOUS, name = \"b\", lb = 0)\n",
    "    r = opt_mod2.addVars(n, name = 'r', vtype = GRB.CONTINUOUS)\n",
    "    z = opt_mod2.addVars(n, m, vtype = GRB.BINARY, name = \"z\")\n",
    "    \n",
    "    opt_mod2.addConstrs((l_prime[j] <= sum(z[i,j] for i in range(n)) for j in range(m)), name = 'c1a')\n",
    "    opt_mod2.addConstrs((sum(z[i,j] for i in range(n)) <= u_prime[j] for j in range(m)), name = 'c1b')\n",
    "    opt_mod2.addConstrs((l[i] <= sum(z[i,j] for j in range(m)) for i in range(n)), name = 'c2a')\n",
    "    opt_mod2.addConstrs((sum(z[i,j] for j in range(m)) <= u[i] for i in range(n)), name = 'c2b')\n",
    "    \n",
    "    opt_mod2.addConstrs((r[k] + b[i,k] >= sum(c[i,j]*z[i,j] for j in range(m)) for i in range(n) for k in range(n)), name = 'c3')\n",
    "\n",
    "    w_prime = fct_w_prime(w)\n",
    "    \n",
    "    obj_fn2 = sum(w_prime[k]*(k+1)*r[k] + sum(b[i,k] for i in range(n)) for k in range(n))\n",
    "    opt_mod2.setObjective(obj_fn2, GRB.MINIMIZE)\n",
    "\n",
    "    return opt_mod2\n",
    "\n",
    "def fct_w(n):\n",
    "    w = np.zeros(n)\n",
    "    for k in range(n):\n",
    "        w[k] = n-k\n",
    "    return w\n",
    "\n",
    "def fct_w_prime(w):\n",
    "    n = len(w)\n",
    "    w_prime = np.zeros(n)\n",
    "    for k in range(n-1):\n",
    "        w_prime[k] = w[k]-w[k+1]\n",
    "    w_prime[n-1] = w[n-1]\n",
    "    return w_prime\n",
    "\n",
    "m = 30\n",
    "n = m #n = m//4\n",
    "l_prime = [1 for j in range(m)]\n",
    "u_prime = [1 for j in range(m)]\n",
    "l = [1 for i in range(n)]\n",
    "u = [1 for i in range(n)]\n",
    "c = 5*np.random.rand(n,m) # appartient à [0,5]\n",
    "w = fct_w(n)\n",
    "\n",
    "opt_mod2 = sol_equitable_opti(c,w,n,m,l_prime,u_prime,l,u)\n",
    "opt_mod2.optimize()\n",
    "opt_mod2.write(\"test_mod3.lp\")"
   ]
  },
  {
   "cell_type": "code",
   "execution_count": 9,
   "id": "988cad86-7d53-4f09-9d87-7e83f2619d40",
   "metadata": {},
   "outputs": [
    {
     "name": "stdout",
     "output_type": "stream",
     "text": [
      "w =  [30. 29. 28. 27. 26. 25. 24. 23. 22. 21. 20. 19. 18. 17. 16. 15. 14. 13.\n",
      " 12. 11. 10.  9.  8.  7.  6.  5.  4.  3.  2.  1.]\n",
      "Objective Function Value: 122.695757\n"
     ]
    }
   ],
   "source": [
    "print(\"w = \", w)\n",
    "#print(\"c = \", c)\n",
    "print('Objective Function Value: %f' % opt_mod2.objVal)\n",
    "# Get values of the decision variables\n",
    "#for v in opt_mod2.getVars():\n",
    "#    print('%s: %g' % (v.varName, v.x))"
   ]
  },
  {
   "cell_type": "code",
   "execution_count": null,
   "id": "1b349ef3-385b-4393-96be-d5578d8c40bf",
   "metadata": {},
   "outputs": [],
   "source": []
  }
 ],
 "metadata": {
  "kernelspec": {
   "display_name": "Python 3 (ipykernel)",
   "language": "python",
   "name": "python3"
  },
  "language_info": {
   "codemirror_mode": {
    "name": "ipython",
    "version": 3
   },
   "file_extension": ".py",
   "mimetype": "text/x-python",
   "name": "python",
   "nbconvert_exporter": "python",
   "pygments_lexer": "ipython3",
   "version": "3.13.2"
  }
 },
 "nbformat": 4,
 "nbformat_minor": 5
}
