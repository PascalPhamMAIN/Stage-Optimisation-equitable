{
 "cells": [
  {
   "cell_type": "code",
   "execution_count": 1,
   "id": "9ff37474-bf90-4b3b-a5e1-efeeb27e6fa1",
   "metadata": {},
   "outputs": [],
   "source": [
    "from gurobipy import *"
   ]
  },
  {
   "cell_type": "code",
   "execution_count": 2,
   "id": "ef11d2a9-5766-42b9-a444-f3ef075e2496",
   "metadata": {},
   "outputs": [
    {
     "name": "stdout",
     "output_type": "stream",
     "text": [
      "Set parameter Username\n",
      "Set parameter LicenseID to value 2652794\n",
      "Academic license - for non-commercial use only - expires 2026-04-15\n",
      "Gurobi Optimizer version 12.0.1 build v12.0.1rc0 (win64 - Windows 11.0 (26100.2))\n",
      "\n",
      "CPU model: 13th Gen Intel(R) Core(TM) i7-1360P, instruction set [SSE2|AVX|AVX2]\n",
      "Thread count: 12 physical cores, 16 logical processors, using up to 16 threads\n",
      "\n",
      "Optimize a model with 2 rows, 2 columns and 4 nonzeros\n",
      "Model fingerprint: 0xf6fcfa14\n",
      "Coefficient statistics:\n",
      "  Matrix range     [1e+00, 3e+00]\n",
      "  Objective range  [1e+00, 2e+00]\n",
      "  Bounds range     [0e+00, 0e+00]\n",
      "  RHS range        [3e+00, 1e+01]\n",
      "Presolve removed 2 rows and 2 columns\n",
      "Presolve time: 0.02s\n",
      "Presolve: All rows and columns removed\n",
      "Iteration    Objective       Primal Inf.    Dual Inf.      Time\n",
      "       0    1.0000000e+01   0.000000e+00   0.000000e+00      0s\n",
      "\n",
      "Solved in 0 iterations and 0.02 seconds (0.00 work units)\n",
      "Optimal objective  1.000000000e+01\n",
      "Objective Function Value: 10.000000\n",
      "x: 5\n",
      "y: 0\n"
     ]
    }
   ],
   "source": [
    "opt_mod = Model(name = \"linear program\")\n",
    "x = opt_mod.addVar(name = 'x', vtype = GRB.CONTINUOUS, lb = 0)\n",
    "y = opt_mod.addVar(name = 'y', vtype = GRB.CONTINUOUS, lb = 0)\n",
    "obj_fn = 2*x + y\n",
    "opt_mod.setObjective(obj_fn, GRB.MAXIMIZE)\n",
    "c1 = opt_mod.addConstr(3*x + y >=  3, name = 'c1')\n",
    "c2 = opt_mod.addConstr(2*x + 2*y <= 10, name = 'c2')\n",
    "opt_mod.optimize() # solve the model\n",
    "print('Objective Function Value: %f' % opt_mod.objVal)\n",
    "# Get values of the decision variables\n",
    "for v in opt_mod.getVars():\n",
    "    print('%s: %g' % (v.varName, v.x))"
   ]
  },
  {
   "cell_type": "code",
   "execution_count": 5,
   "id": "ca59a254-5d79-4696-bfb0-0ec4394fb4fc",
   "metadata": {},
   "outputs": [
    {
     "name": "stdout",
     "output_type": "stream",
     "text": [
      "Gurobi Optimizer version 12.0.1 build v12.0.1rc0 (win64 - Windows 11.0 (26100.2))\n",
      "\n",
      "CPU model: 13th Gen Intel(R) Core(TM) i7-1360P, instruction set [SSE2|AVX|AVX2]\n",
      "Thread count: 12 physical cores, 16 logical processors, using up to 16 threads\n",
      "\n",
      "Optimize a model with 2 rows, 2 columns and 4 nonzeros\n",
      "Model fingerprint: 0x8ace3657\n",
      "Coefficient statistics:\n",
      "  Matrix range     [1e+00, 3e+00]\n",
      "  Objective range  [3e+00, 1e+01]\n",
      "  Bounds range     [0e+00, 0e+00]\n",
      "  RHS range        [1e+00, 2e+00]\n",
      "Presolve removed 2 rows and 2 columns\n",
      "Presolve time: 0.01s\n",
      "Presolve: All rows and columns removed\n",
      "Iteration    Objective       Primal Inf.    Dual Inf.      Time\n",
      "       0    1.0000000e+01   0.000000e+00   0.000000e+00      0s\n",
      "\n",
      "Solved in 0 iterations and 0.01 seconds (0.00 work units)\n",
      "Optimal objective  1.000000000e+01\n",
      "Objective Function Value: 10.000000\n",
      "x: 0\n",
      "y: 1\n"
     ]
    }
   ],
   "source": [
    "opt_mod = Model(name = \"linear program\")\n",
    "x = opt_mod.addVar(name = 'x', vtype = GRB.CONTINUOUS, lb=-GRB.INFINITY, ub = 0)\n",
    "y = opt_mod.addVar(name = 'y', vtype = GRB.CONTINUOUS, lb = 0)\n",
    "obj_fn = 3*x + 10*y\n",
    "opt_mod.setObjective(obj_fn, GRB.MINIMIZE)\n",
    "c1 = opt_mod.addConstr(3*x + 2*y >= 2, name = 'c1')\n",
    "c2 = opt_mod.addConstr(x + 2*y >= 1, name = 'c2')\n",
    "opt_mod.optimize() # solve the model\n",
    "print('Objective Function Value: %f' % opt_mod.objVal)\n",
    "# Get values of the decision variables\n",
    "for v in opt_mod.getVars():\n",
    "    print('%s: %g' % (v.varName, v.x))"
   ]
  },
  {
   "cell_type": "code",
   "execution_count": 13,
   "id": "9956f480-031b-44b3-9bd6-68311be6c9cc",
   "metadata": {},
   "outputs": [
    {
     "name": "stdout",
     "output_type": "stream",
     "text": [
      "Gurobi Optimizer version 12.0.1 build v12.0.1rc0 (win64 - Windows 11.0 (26100.2))\n",
      "\n",
      "CPU model: 13th Gen Intel(R) Core(TM) i7-1360P, instruction set [SSE2|AVX|AVX2]\n",
      "Thread count: 12 physical cores, 16 logical processors, using up to 16 threads\n",
      "\n",
      "Optimize a model with 2 rows, 2 columns and 4 nonzeros\n",
      "Model fingerprint: 0x4acf3678\n",
      "Coefficient statistics:\n",
      "  Matrix range     [1e+00, 3e+00]\n",
      "  Objective range  [1e+00, 2e+00]\n",
      "  Bounds range     [0e+00, 0e+00]\n",
      "  RHS range        [2e+00, 1e+01]\n",
      "Presolve time: 0.01s\n",
      "Presolved: 2 rows, 2 columns, 4 nonzeros\n",
      "\n",
      "Iteration    Objective       Primal Inf.    Dual Inf.      Time\n",
      "       0   -0.0000000e+00   5.000000e-01   0.000000e+00      0s\n",
      "       1   -1.3333333e+00   0.000000e+00   0.000000e+00      0s\n",
      "\n",
      "Solved in 1 iterations and 0.01 seconds (0.00 work units)\n",
      "Optimal objective -1.333333333e+00\n",
      "Objective Value: -1.3333333333333333\n",
      "x: -0.6666666666666666\n",
      "y: 0.0\n"
     ]
    }
   ],
   "source": [
    "opt_mod = Model(name=\"linear program\")\n",
    "#opt_mod.setParam('Method', 2)\n",
    "x = opt_mod.addVar(name='x', vtype=GRB.CONTINUOUS, lb=-GRB.INFINITY, ub=0) # lb = 0 par défaut\n",
    "y = opt_mod.addVar(name='y', vtype=GRB.CONTINUOUS, lb=-GRB.INFINITY, ub=0)\n",
    "opt_mod.setObjective(2*x + y, GRB.MAXIMIZE)\n",
    "opt_mod.addConstr(3*x + y <= -2, name='c1')\n",
    "opt_mod.addConstr(2*x + 2*y >= -10, name='c2')\n",
    "opt_mod.optimize()\n",
    "#opt_mod.write(\"dual1.lp\")\n",
    "\n",
    "if opt_mod.status == GRB.OPTIMAL:\n",
    "    print(f'Objective Value: {opt_mod.objVal}')\n",
    "    for v in opt_mod.getVars():\n",
    "        print(f'{v.varName}: {v.x}')\n",
    "else:\n",
    "    print(f'Status code: {opt_mod.status}')\n"
   ]
  },
  {
   "cell_type": "code",
   "execution_count": 22,
   "id": "1a91674e-732c-4948-8c17-ded6ae161148",
   "metadata": {},
   "outputs": [
    {
     "name": "stdout",
     "output_type": "stream",
     "text": [
      "Set parameter Method to value 1\n",
      "Gurobi Optimizer version 12.0.1 build v12.0.1rc0 (win64 - Windows 11.0 (26100.2))\n",
      "\n",
      "CPU model: 13th Gen Intel(R) Core(TM) i7-1360P, instruction set [SSE2|AVX|AVX2]\n",
      "Thread count: 12 physical cores, 16 logical processors, using up to 16 threads\n",
      "\n",
      "Non-default parameters:\n",
      "Method  1\n",
      "\n",
      "Optimize a model with 2 rows, 2 columns and 4 nonzeros\n",
      "Model fingerprint: 0x9a9bab02\n",
      "Coefficient statistics:\n",
      "  Matrix range     [1e+00, 3e+00]\n",
      "  Objective range  [2e+00, 1e+01]\n",
      "  Bounds range     [0e+00, 0e+00]\n",
      "  RHS range        [1e+00, 2e+00]\n",
      "Presolve time: 0.01s\n",
      "Presolved: 2 rows, 2 columns, 4 nonzeros\n",
      "\n",
      "Iteration    Objective       Primal Inf.    Dual Inf.      Time\n",
      "       0   -2.0000000e+30   1.250000e+30   2.000000e+00      0s\n",
      "       1   -1.3333333e+00   0.000000e+00   0.000000e+00      0s\n",
      "\n",
      "Solved in 1 iterations and 0.01 seconds (0.00 work units)\n",
      "Optimal objective -1.333333333e+00\n",
      "Objective Function Value: -1.333333\n",
      "x: 0.666667\n",
      "y: 0\n"
     ]
    }
   ],
   "source": [
    "# Solution duale : \n",
    "# le signe d'inégalité des contraintes dépend du signe des variables du problème primal + si le problème primal est un prob de minimisation ou de maximisation\n",
    "# Le signe des variables du dual dépend du signe d'inégalité des contraintes du problème primal\n",
    "opt_mod = Model(name = \"linear program\")\n",
    "opt_mod.setParam('Method', 1)\n",
    "x = opt_mod.addVar(name='x', vtype=GRB.CONTINUOUS, lb=0,ub=GRB.INFINITY)\n",
    "y = opt_mod.addVar(name='y', vtype=GRB.CONTINUOUS, lb=-GRB.INFINITY, ub=0)\n",
    "obj_fn = -2*x - 10*y\n",
    "opt_mod.setObjective(obj_fn, GRB.MINIMIZE)\n",
    "#opt_mod.setObjective(obj_fn, GRB.MAXIMIZE)\n",
    "c1 = opt_mod.addConstr(3*x + 2*y <= 2, name = 'c1')\n",
    "c2 = opt_mod.addConstr(x + 2*y <= 1, name = 'c2')\n",
    "opt_mod.optimize() # solve the model\n",
    "opt_mod.write(\"dual.lp\")\n",
    "\n",
    "print('Objective Function Value: %f' % opt_mod.objVal)\n",
    "# Get values of the decision variables\n",
    "for v in opt_mod.getVars():\n",
    "    print('%s: %g' % (v.varName, v.x))"
   ]
  },
  {
   "cell_type": "code",
   "execution_count": 18,
   "id": "48e20fb3-c565-45a9-bbee-6fe893c17bca",
   "metadata": {},
   "outputs": [
    {
     "name": "stdout",
     "output_type": "stream",
     "text": [
      "Gurobi Optimizer version 12.0.1 build v12.0.1rc0 (win64 - Windows 11.0 (26100.2))\n",
      "\n",
      "CPU model: 13th Gen Intel(R) Core(TM) i7-1360P, instruction set [SSE2|AVX|AVX2]\n",
      "Thread count: 12 physical cores, 16 logical processors, using up to 16 threads\n",
      "\n",
      "Optimize a model with 2 rows, 2 columns and 4 nonzeros\n",
      "Model fingerprint: 0x8c49829e\n",
      "Coefficient statistics:\n",
      "  Matrix range     [1e+00, 3e+00]\n",
      "  Objective range  [1e+00, 2e+00]\n",
      "  Bounds range     [0e+00, 0e+00]\n",
      "  RHS range        [2e+00, 1e+01]\n",
      "Presolve time: 0.00s\n",
      "Presolved: 2 rows, 2 columns, 4 nonzeros\n",
      "\n",
      "Iteration    Objective       Primal Inf.    Dual Inf.      Time\n",
      "       0    0.0000000e+00   5.000000e-01   0.000000e+00      0s\n",
      "       1    1.3333333e+00   0.000000e+00   0.000000e+00      0s\n",
      "\n",
      "Solved in 1 iterations and 0.00 seconds (0.00 work units)\n",
      "Optimal objective  1.333333333e+00\n",
      "Objective Value: 1.3333333333333333\n",
      "x: 0.6666666666666666\n",
      "y: 0.0\n"
     ]
    }
   ],
   "source": [
    "opt_mod = Model(name=\"linear program\")\n",
    "#opt_mod.setParam('Method', 2)\n",
    "x = opt_mod.addVar(name='x', vtype=GRB.CONTINUOUS, lb=0) # lb = 0 par défaut\n",
    "y = opt_mod.addVar(name='y', vtype=GRB.CONTINUOUS, lb=0)\n",
    "opt_mod.setObjective(2*x + y, GRB.MINIMIZE)\n",
    "opt_mod.addConstr(3*x + y >= 2, name='c1')\n",
    "opt_mod.addConstr(2*x + 2*y <= 10, name='c2')\n",
    "opt_mod.optimize()\n",
    "#opt_mod.write(\"dual1.lp\")\n",
    "\n",
    "if opt_mod.status == GRB.OPTIMAL:\n",
    "    print(f'Objective Value: {opt_mod.objVal}')\n",
    "    for v in opt_mod.getVars():\n",
    "        print(f'{v.varName}: {v.x}')\n",
    "else:\n",
    "    print(f'Status code: {opt_mod.status}')\n"
   ]
  },
  {
   "cell_type": "code",
   "execution_count": 3,
   "id": "7ffd9a57-9472-4256-9a8c-91673c54a9a7",
   "metadata": {},
   "outputs": [
    {
     "name": "stdout",
     "output_type": "stream",
     "text": [
      "tt\n",
      "tt\n",
      "tt\n",
      "tt\n",
      "tt\n",
      "tt\n",
      "tt\n",
      "tt\n",
      "tt\n",
      "tt\n",
      "tt\n",
      "tt\n",
      "tt\n",
      "tt\n",
      "tt\n",
      "tt\n"
     ]
    }
   ],
   "source": [
    "l = [(6,0),(3,1),(2,1),(5,2)]\n",
    "for j in range(len(l)):\n",
    "    for (_,j) in l:\n",
    "        print(\"tt\")"
   ]
  },
  {
   "cell_type": "code",
   "execution_count": 2,
   "id": "980b9fa7-1c05-4bfb-95bb-26c759ceae3b",
   "metadata": {},
   "outputs": [
    {
     "name": "stdout",
     "output_type": "stream",
     "text": [
      "[5 4 3 2 1] [1. 1. 1. 1. 1.]\n"
     ]
    }
   ],
   "source": [
    "import numpy as np\n",
    "\n",
    "n = 5\n",
    "\n",
    "def fct_w(n):\n",
    "    return np.array([n - k for k in range(n)])\n",
    "\n",
    "def fct_w_prime(w):\n",
    "    n = len(w)\n",
    "    w_prime = np.zeros(n)\n",
    "    for k in range(n - 1):\n",
    "        w_prime[k] = w[k] - w[k + 1]\n",
    "    w_prime[n - 1] = w[n - 1]\n",
    "    return w_prime\n",
    "\n",
    "w = fct_w(n) # pour n = 5, w = [5,4,3,2,1]\n",
    "w_prime = fct_w_prime(w)\n",
    "print(w, w_prime)"
   ]
  },
  {
   "cell_type": "code",
   "execution_count": 14,
   "id": "b9e2dd21-0899-4091-a877-4f8ce1c18cc3",
   "metadata": {},
   "outputs": [
    {
     "name": "stdout",
     "output_type": "stream",
     "text": [
      "0.22220622230746134\n",
      "coucou\n"
     ]
    }
   ],
   "source": [
    "import numpy as np\n",
    "import random\n",
    "a = random.random()\n",
    "print(a)\n",
    "if 0.5 > a:\n",
    "    print(\"coucou\")"
   ]
  },
  {
   "cell_type": "code",
   "execution_count": 6,
   "id": "6b5d099f-f862-4f74-a083-8acadfb402bc",
   "metadata": {},
   "outputs": [
    {
     "name": "stdout",
     "output_type": "stream",
     "text": [
      "{0: [6, 10, 0], 1: [14, 12, 5], 2: [6, 4, 1], 3: [11, 4, 13], 4: [1, 4, 9], 5: [6, 12, 7], 6: [14, 10, 2], 7: [2, 7, 10], 8: [8, 7, 3], 9: [0, 8, 10]}\n",
      "{0: [8, 2, 4], 1: [8, 3, 5], 2: [5, 0, 8], 3: [5, 4, 2], 4: [5, 2, 7], 5: [5, 8, 4], 6: [6, 0, 7], 7: [8, 0, 6], 8: [5, 1, 9], 9: [5, 4, 6], 10: [6, 5, 1], 11: [8, 2, 0], 12: [8, 9, 5], 13: [4, 2, 6], 14: [1, 4, 0]}\n",
      "\n",
      "pairs valides 1 : [(0, 6), (1, 14), (2, 4), (4, 9), (5, 12), (6, 10), (8, 7), (9, 8)]\n",
      "\n",
      "pairs valides : [(0, 6), (0, 10), (0, 0), (1, 14), (1, 12), (1, 5), (2, 6), (2, 4), (2, 1), (3, 11), (3, 4), (3, 13), (4, 1), (4, 4), (4, 9), (5, 6), (5, 12), (5, 7), (6, 14), (6, 10), (6, 2), (7, 2), (7, 7), (7, 10), (8, 8), (8, 7), (8, 3), (9, 0), (9, 8), (9, 10), (8, 0), (2, 0), (4, 0), (8, 1), (3, 1), (5, 1), (5, 2), (0, 2), (8, 2), (5, 3), (4, 3), (2, 3), (5, 4), (2, 4), (7, 4), (5, 5), (8, 5), (4, 5), (6, 6), (0, 6), (7, 6), (8, 7), (0, 7), (6, 7), (5, 8), (1, 8), (9, 8), (5, 9), (4, 9), (6, 9), (6, 10), (5, 10), (1, 10), (8, 11), (2, 11), (0, 11), (8, 12), (9, 12), (5, 12), (4, 13), (2, 13), (6, 13), (1, 14), (4, 14), (0, 14)]\n",
      "\n",
      "pairs valides 2 : [(0, 6), (0, 10), (0, 0), (1, 14), (1, 12), (1, 5), (2, 6), (2, 4), (2, 1), (3, 11), (3, 4), (3, 13), (4, 1), (4, 4), (4, 9), (5, 6), (5, 12), (5, 7), (6, 14), (6, 10), (6, 2), (7, 2), (7, 7), (7, 10), (8, 8), (8, 7), (8, 3), (9, 0), (9, 8), (9, 10), (8, 0), (2, 0), (4, 0), (8, 1), (3, 1), (5, 1), (5, 2), (0, 2), (8, 2), (5, 3), (4, 3), (2, 3), (5, 4), (7, 4), (5, 5), (8, 5), (4, 5), (6, 6), (7, 6), (0, 7), (6, 7), (5, 8), (1, 8), (5, 9), (6, 9), (5, 10), (1, 10), (8, 11), (2, 11), (0, 11), (8, 12), (9, 12), (4, 13), (2, 13), (6, 13), (4, 14), (0, 14)]\n"
     ]
    }
   ],
   "source": [
    "import random\n",
    "\n",
    "n = 10  # nombre d'agents\n",
    "m = 15 # nombre d'items\n",
    "k = 3\n",
    "\n",
    "agent_to_items = {i: random.sample(range(m), k) for i in range(n)}\n",
    "item_to_agents = {j: random.sample(range(n), k) for j in range(m)}\n",
    "print(agent_to_items)\n",
    "print(item_to_agents)\n",
    "valid_pairs1 = [(i, j) for i in range(n) for j in agent_to_items[i] if i in item_to_agents[j]]\n",
    "print(\"\\npairs valides 1 :\", valid_pairs1)\n",
    "valid_pairs = [(i, j) for i in range(n) for j in agent_to_items[i]] + [(i, j) for j in range(m) for i in item_to_agents[j]]\n",
    "print(\"\\npairs valides :\", valid_pairs)\n",
    "valid_pairs2 = [(i, j) for i in range(n) for j in agent_to_items[i]] + [(i, j) for j in range(m) for i in item_to_agents[j] if j not in agent_to_items[i]]\n",
    "print(\"\\npairs valides 2 :\", valid_pairs2)"
   ]
  },
  {
   "cell_type": "code",
   "execution_count": 14,
   "id": "8a09f2df-a685-4423-8e1d-2da84e468906",
   "metadata": {},
   "outputs": [
    {
     "name": "stdout",
     "output_type": "stream",
     "text": [
      "[(0, 1), (0, 2), (0, 3), (0, 4), (1, 2), (1, 3), (1, 4), (2, 3), (2, 4), (3, 4)]\n",
      "0\n",
      "1\n",
      "2\n",
      "3\n",
      "4\n",
      "[0, 1, 2, 3, 4]\n"
     ]
    }
   ],
   "source": [
    "from gurobipy import *\n",
    "from itertools import combinations\n",
    "\n",
    "n = 5\n",
    "#V = range(n)\n",
    "vector = [i for i in range(n)]\n",
    "comb = list(combinations(vector, 2))\n",
    "print(comb)\n",
    "\n",
    "V = range(n)\n",
    "for j in V:\n",
    "    print(j)\n",
    "\n",
    "tt = [i for i in range(5)]\n",
    "print(tt)"
   ]
  },
  {
   "cell_type": "code",
   "execution_count": 1,
   "id": "4f8ea4c7-21c0-4149-b6b9-273bfaf9c4f9",
   "metadata": {},
   "outputs": [
    {
     "name": "stdout",
     "output_type": "stream",
     "text": [
      "[14, 21, 17]\n"
     ]
    }
   ],
   "source": [
    "liste1 = [11,14,21,17]\n",
    "for elem in liste1:\n",
    "    if elem == 11:\n",
    "        liste1.remove(elem)\n",
    "print(liste1)"
   ]
  },
  {
   "cell_type": "code",
   "execution_count": 3,
   "id": "9427ae2b-566d-49c2-a66e-175b7ba35d03",
   "metadata": {},
   "outputs": [
    {
     "name": "stdout",
     "output_type": "stream",
     "text": [
      "[(0,), (1,), (2,), (3,), (4,)]\n"
     ]
    }
   ],
   "source": [
    "from itertools import combinations\n",
    "n = 5\n",
    "#V = range(n)\n",
    "vector = [i for i in range(n)]\n",
    "combinaisons = [list(combinations(vector, j+1)) for j in range(n)]\n",
    "print(combinaisons[0])"
   ]
  },
  {
   "cell_type": "code",
   "execution_count": 4,
   "id": "d7974206-578d-4a5a-a3b4-351950ca2699",
   "metadata": {},
   "outputs": [
    {
     "name": "stdout",
     "output_type": "stream",
     "text": [
      "[20, 17, 11, 5, 3, 1]\n"
     ]
    }
   ],
   "source": [
    "z = [11,3,17,5,1,20]\n",
    "z_trie = z\n",
    "z_trie.sort(reverse=True)\n",
    "print(z_trie)"
   ]
  },
  {
   "cell_type": "code",
   "execution_count": null,
   "id": "200caa82-4332-408d-8c9b-514c1c4f3565",
   "metadata": {},
   "outputs": [],
   "source": []
  }
 ],
 "metadata": {
  "kernelspec": {
   "display_name": "Python 3 (ipykernel)",
   "language": "python",
   "name": "python3"
  },
  "language_info": {
   "codemirror_mode": {
    "name": "ipython",
    "version": 3
   },
   "file_extension": ".py",
   "mimetype": "text/x-python",
   "name": "python",
   "nbconvert_exporter": "python",
   "pygments_lexer": "ipython3",
   "version": "3.13.2"
  }
 },
 "nbformat": 4,
 "nbformat_minor": 5
}
