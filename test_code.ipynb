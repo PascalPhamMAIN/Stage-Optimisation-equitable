{
 "cells": [
  {
   "cell_type": "code",
   "execution_count": 22,
   "id": "5834eb8f-e870-4678-bf3a-c342769851b4",
   "metadata": {},
   "outputs": [
    {
     "ename": "TypeError",
     "evalue": "list indices must be integers or slices, not tuple",
     "output_type": "error",
     "traceback": [
      "\u001b[31m---------------------------------------------------------------------------\u001b[39m",
      "\u001b[31mTypeError\u001b[39m                                 Traceback (most recent call last)",
      "\u001b[36mCell\u001b[39m\u001b[36m \u001b[39m\u001b[32mIn[22]\u001b[39m\u001b[32m, line 2\u001b[39m\n\u001b[32m      1\u001b[39m fractional_vars = [[j \u001b[38;5;28;01mfor\u001b[39;00m j \u001b[38;5;129;01min\u001b[39;00m \u001b[38;5;28mrange\u001b[39m(\u001b[32m3\u001b[39m)] \u001b[38;5;28;01mfor\u001b[39;00m i \u001b[38;5;129;01min\u001b[39;00m \u001b[38;5;28mrange\u001b[39m(\u001b[32m4\u001b[39m)]\n\u001b[32m----> \u001b[39m\u001b[32m2\u001b[39m \u001b[38;5;28mprint\u001b[39m(\u001b[43mfractional_vars\u001b[49m\u001b[43m[\u001b[49m\u001b[32;43m1\u001b[39;49m\u001b[43m,\u001b[49m\u001b[32;43m1\u001b[39;49m\u001b[43m]\u001b[49m)\n\u001b[32m      3\u001b[39m \u001b[38;5;28mprint\u001b[39m(\u001b[33m\"\u001b[39m\u001b[33mcc\u001b[39m\u001b[33m\"\u001b[39m)\n\u001b[32m      4\u001b[39m fractional_vars[\u001b[32m0\u001b[39m].remove(\u001b[32m1\u001b[39m)\n",
      "\u001b[31mTypeError\u001b[39m: list indices must be integers or slices, not tuple"
     ]
    }
   ],
   "source": [
    "fractional_vars = [[j for j in range(3)] for i in range(4)]\n",
    "print(fractional_vars[1,1])\n",
    "print(\"cc\")\n",
    "fractional_vars[0].remove(1)\n",
    "fractional_vars[0].remove(2)\n",
    "fractional_vars[0].remove(0)\n",
    "print(fractional_vars)\n",
    "for elem in fractional_vars:\n",
    "    for e in elem:\n",
    "        print(e)\n",
    "    print(\"aie\")"
   ]
  },
  {
   "cell_type": "code",
   "execution_count": 9,
   "id": "603143a1-6f8a-4dfb-83ab-5344790b1a9e",
   "metadata": {},
   "outputs": [
    {
     "name": "stdout",
     "output_type": "stream",
     "text": [
      "10\n"
     ]
    }
   ],
   "source": [
    "z = [2,3,4,5]\n",
    "print(sum(z[j] for j in range(len(z)) if j != 2))"
   ]
  },
  {
   "cell_type": "code",
   "execution_count": 21,
   "id": "b6f110a8-613c-401b-9876-044357ec2499",
   "metadata": {},
   "outputs": [
    {
     "name": "stdout",
     "output_type": "stream",
     "text": [
      "1\n",
      "0\n",
      "1\n"
     ]
    }
   ],
   "source": [
    "tt = [[]]\n",
    "print(len(tt))\n",
    "if not tt:\n",
    "    print(\"rien\")\n",
    "for i in range(len(tt)):\n",
    "    print(len(tt[i]))\n",
    "\n",
    "a = [[2,3],[4,5]]\n",
    "res = 0\n",
    "for i in range(len(a)):\n",
    "    for j in range(len(a[i])):\n",
    "        if a[i][j] == 4:\n",
    "            res = 1\n",
    "print(res)"
   ]
  },
  {
   "cell_type": "code",
   "execution_count": 24,
   "id": "34c334fa-235b-498e-9d95-e3d60ca82c30",
   "metadata": {},
   "outputs": [
    {
     "name": "stdout",
     "output_type": "stream",
     "text": [
      "yes\n"
     ]
    }
   ],
   "source": [
    "z = (-1,-1)\n",
    "if z == (-1,-1):\n",
    "    print(\"yes\")"
   ]
  },
  {
   "cell_type": "code",
   "execution_count": null,
   "id": "6733ae90-27b8-45c0-81b2-10ee05a05711",
   "metadata": {},
   "outputs": [],
   "source": []
  }
 ],
 "metadata": {
  "kernelspec": {
   "display_name": "Python 3 (ipykernel)",
   "language": "python",
   "name": "python3"
  },
  "language_info": {
   "codemirror_mode": {
    "name": "ipython",
    "version": 3
   },
   "file_extension": ".py",
   "mimetype": "text/x-python",
   "name": "python",
   "nbconvert_exporter": "python",
   "pygments_lexer": "ipython3",
   "version": "3.13.2"
  }
 },
 "nbformat": 4,
 "nbformat_minor": 5
}
