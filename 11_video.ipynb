{
 "cells": [
  {
   "cell_type": "markdown",
   "id": "99bb388f",
   "metadata": {},
   "source": [
    "# Assignment Problem\n",
    "\n",
    "A fundamental combinatorial optimization problem.\n",
    "\n",
    "- $n$ tasks to be done\n",
    "- $n$ workers to do the tasks\n",
    "- Each worker has a certain cost for each task ($c_{ij}$)\n",
    "\n",
    "Problem: Find the best assignment of all tasks that minimizes the total cost.\n",
    "\n",
    "Constraints:\n",
    "* Each worker can do at most one task\n",
    "* All tasks need to be done\n",
    "\n",
    "# Mathematical Formulation\n",
    "\n",
    "\\begin{align}\n",
    "\\text{minimize} & \\sum_{i = 1}^{n}\\sum_{j = 1}^{n} c_{ij}x_{ij}, \\\\\n",
    "\\text{subject to} & \\\\\n",
    "& \\sum_{i = 1}^{n} x_{ij} \\leq 1 & \\forall j = 1, ..., n & \\ \\ \\textit{ (workload)},\\\\\n",
    "& \\sum_{j = 1}^{n} x_{ij} = 1 & \\forall i = 1, ..., n & \\ \\ \\textit{ (task completion)}, \\\\\n",
    "& x_{ij} \\in \\{0,1\\} & \\forall i,j = 1, ..., n\n",
    "\\end{align}\n",
    "\n",
    "where $x_{ij}$ is 1 if worker $i$ performs task $j$, 0 otherwise.\n",
    "\n",
    "We can replace the integrality constraints with continuous constraints. The solution will not change as the constraint matrix is totally unimodular.\n",
    "\n",
    "# Coding in Python using gurobipy\n",
    "## Step 1: Creating input data (cost matrix)"
   ]
  },
  {
   "cell_type": "code",
   "execution_count": 2,
   "id": "6f2ced5f",
   "metadata": {},
   "outputs": [
    {
     "name": "stdout",
     "output_type": "stream",
     "text": [
      "4\n",
      "[[4 6 5 1]\n",
      " [7 4 2 4]\n",
      " [7 7 3 2]\n",
      " [1 3 7 4]]\n"
     ]
    }
   ],
   "source": [
    "import numpy as np\n",
    "cost = np.random.randint(1, 10, (4,4))\n",
    "print(cost.shape[0])\n",
    "print(cost)"
   ]
  },
  {
   "cell_type": "markdown",
   "id": "b37ecc03",
   "metadata": {},
   "source": [
    "## Step 2: Importing gurobipy package"
   ]
  },
  {
   "cell_type": "code",
   "execution_count": 2,
   "id": "47a75c78",
   "metadata": {},
   "outputs": [],
   "source": [
    "from gurobipy import Model, GRB"
   ]
  },
  {
   "cell_type": "markdown",
   "id": "c5812b15",
   "metadata": {},
   "source": [
    "## Step 3: Creating the model"
   ]
  },
  {
   "cell_type": "code",
   "execution_count": 3,
   "id": "0d43d5ef",
   "metadata": {},
   "outputs": [
    {
     "name": "stdout",
     "output_type": "stream",
     "text": [
      "Set parameter Username\n",
      "Set parameter LicenseID to value 2652794\n",
      "Academic license - for non-commercial use only - expires 2026-04-15\n"
     ]
    }
   ],
   "source": [
    "assignment_model = Model('Assignment')"
   ]
  },
  {
   "cell_type": "markdown",
   "id": "c4d941bd",
   "metadata": {},
   "source": [
    "## Step 4: Creating decision variables"
   ]
  },
  {
   "cell_type": "code",
   "execution_count": 4,
   "id": "73e0f59e",
   "metadata": {},
   "outputs": [],
   "source": [
    "x = assignment_model.addVars(cost.shape[0], \n",
    "                            cost.shape[1], \n",
    "                            vtype = GRB.BINARY, \n",
    "                            name = \"x\")"
   ]
  },
  {
   "cell_type": "markdown",
   "id": "4949036a",
   "metadata": {},
   "source": [
    "## Step 5: Adding the constraints\n",
    "\\begin{align}\n",
    "\\sum_{i = 1}^{n} x_{ij} \\leq 1 &\\qquad \\forall j = 1, ..., n & \\ \\ \\textit{ (workload)},\\\\\n",
    "\\sum_{j = 1}^{n} x_{ij} = 1 & \\qquad \\forall i = 1, ..., n & \\ \\ \\textit{ (task completion)}.\n",
    "\\end{align}"
   ]
  },
  {
   "cell_type": "code",
   "execution_count": 5,
   "id": "97900890",
   "metadata": {},
   "outputs": [
    {
     "data": {
      "text/plain": [
       "{0: <gurobi.Constr *Awaiting Model Update*>,\n",
       " 1: <gurobi.Constr *Awaiting Model Update*>,\n",
       " 2: <gurobi.Constr *Awaiting Model Update*>,\n",
       " 3: <gurobi.Constr *Awaiting Model Update*>}"
      ]
     },
     "execution_count": 5,
     "metadata": {},
     "output_type": "execute_result"
    }
   ],
   "source": [
    "# sum_{i = 1}^{n} x_{ij} <= 1 for all j\n",
    "assignment_model.addConstrs((sum(x[i,j] for i in range(cost.shape[0])) <= 1 \n",
    "                             for j in range(cost.shape[1])), \n",
    "                            name = 'work_load')\n",
    "\n",
    "# sum_{j = 1}^{n} x_{ij}  = 1 for all i\n",
    "assignment_model.addConstrs((sum(x[i,j] for j in range(cost.shape[1])) == 1 \n",
    "                             for i in range(cost.shape[0])),\n",
    "                            name = 'task_completion')"
   ]
  },
  {
   "cell_type": "markdown",
   "id": "7f30b9fa",
   "metadata": {},
   "source": [
    "## Step 6: Defining the objective function\n",
    "$$\\sum_{i = 1}^{n}\\sum_{j = 1}^{n} c_{ij}x_{ij}$$"
   ]
  },
  {
   "cell_type": "code",
   "execution_count": 6,
   "id": "169c058d",
   "metadata": {},
   "outputs": [],
   "source": [
    "obj_fn = sum(cost[i,j]*x[i,j] for i in range(cost.shape[0]) for j in range(cost.shape[1]))\n",
    "\n",
    "assignment_model.setObjective(obj_fn, GRB.MINIMIZE)"
   ]
  },
  {
   "cell_type": "markdown",
   "id": "35c9130d",
   "metadata": {},
   "source": [
    "## Step 7: Solve and inspect the model"
   ]
  },
  {
   "cell_type": "code",
   "execution_count": 7,
   "id": "0a3a18f5",
   "metadata": {},
   "outputs": [
    {
     "name": "stdout",
     "output_type": "stream",
     "text": [
      "Model Statistics\n",
      "\n",
      "\n",
      "Model Output\n",
      "\n",
      "None\n"
     ]
    },
    {
     "name": "stderr",
     "output_type": "stream",
     "text": [
      "C:\\Users\\phamp\\AppData\\Local\\Temp\\ipykernel_24580\\486250653.py:7: DeprecationWarning: Model.display() is deprecated\n",
      "  print(assignment_model.display())\n"
     ]
    }
   ],
   "source": [
    "assignment_model.setParam('OutputFlag', False)\n",
    "assignment_model.optimize()\n",
    "\n",
    "print('Model Statistics')\n",
    "assignment_model.printStats()\n",
    "print('\\n\\nModel Output\\n')\n",
    "print(assignment_model.display())"
   ]
  },
  {
   "cell_type": "markdown",
   "id": "dc02a934",
   "metadata": {},
   "source": [
    "## Output the solution"
   ]
  },
  {
   "cell_type": "code",
   "execution_count": 8,
   "id": "83d6ce64",
   "metadata": {},
   "outputs": [
    {
     "name": "stdout",
     "output_type": "stream",
     "text": [
      "Optimization is done. Objective Function Value: 15.00\n",
      "x[0,1]: 1\n",
      "x[1,0]: 1\n",
      "x[2,2]: 1\n",
      "x[3,3]: 1\n"
     ]
    }
   ],
   "source": [
    "print('Optimization is done. Objective Function Value: %.2f' % assignment_model.objVal)\n",
    "\n",
    "# Get values of the decision variables\n",
    "for v in assignment_model.getVars():\n",
    "    if v.x > 0:\n",
    "        print('%s: %g' % (v.varName, v.x))"
   ]
  },
  {
   "cell_type": "markdown",
   "id": "bc61d73e",
   "metadata": {},
   "source": [
    "# Relaxing the binary constraint"
   ]
  },
  {
   "cell_type": "code",
   "execution_count": 9,
   "id": "3b63a4e2",
   "metadata": {},
   "outputs": [
    {
     "name": "stdout",
     "output_type": "stream",
     "text": [
      "Optimization is done. Objective Function Value: 15.00\n",
      "x[0,1]: 1\n",
      "x[1,0]: 1\n",
      "x[2,2]: 1\n",
      "x[3,3]: 1\n"
     ]
    }
   ],
   "source": [
    "assignment_model_2 = Model('Assignment_2')\n",
    "\n",
    "y = assignment_model_2.addVars(cost.shape[0], \n",
    "                               cost.shape[1],\n",
    "                               vtype = GRB.CONTINUOUS,\n",
    "                               lb = 0, ub = 1, \n",
    "                               name = \"x\")\n",
    "\n",
    "# sum_{i = 1}^{n} y_{ij} <= 1 for all j\n",
    "assignment_model_2.addConstrs((sum(y[i,j] for i in range(cost.shape[0])) == 1 \n",
    "                               for j in range(cost.shape[1])), \n",
    "                              name = 'work_load')\n",
    "\n",
    "# sum_{j = 1}^{n} y_{ij}  = 1 for all i\n",
    "assignment_model_2.addConstrs((sum(y[i,j] for j in range(cost.shape[1])) == 1 \n",
    "                               for i in range(cost.shape[0])),\n",
    "                              name = 'task_completion')\n",
    "\n",
    "obj_fn = sum(cost[i,j]*y[i,j] for i in range(cost.shape[0]) for j in range(cost.shape[1]))\n",
    "assignment_model_2.setObjective(obj_fn, GRB.MINIMIZE)\n",
    "\n",
    "assignment_model_2.setParam('OutputFlag', False)\n",
    "\n",
    "assignment_model_2.optimize()\n",
    "\n",
    "print('Optimization is done. Objective Function Value: %.2f' % assignment_model_2.objVal)\n",
    "\n",
    "# Get values of the decision variables\n",
    "for v in assignment_model.getVars():\n",
    "    if v.x > 0:\n",
    "        print('%s: %g' % (v.varName, v.x))"
   ]
  },
  {
   "cell_type": "code",
   "execution_count": null,
   "id": "948aeaf5",
   "metadata": {},
   "outputs": [],
   "source": []
  }
 ],
 "metadata": {
  "kernelspec": {
   "display_name": "Python 3 (ipykernel)",
   "language": "python",
   "name": "python3"
  },
  "language_info": {
   "codemirror_mode": {
    "name": "ipython",
    "version": 3
   },
   "file_extension": ".py",
   "mimetype": "text/x-python",
   "name": "python",
   "nbconvert_exporter": "python",
   "pygments_lexer": "ipython3",
   "version": "3.11.7"
  }
 },
 "nbformat": 4,
 "nbformat_minor": 5
}
